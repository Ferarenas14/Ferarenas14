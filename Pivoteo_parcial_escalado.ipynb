{
  "nbformat": 4,
  "nbformat_minor": 0,
  "metadata": {
    "colab": {
      "provenance": [],
      "authorship_tag": "ABX9TyPWbaqBzFK2DcB+B3/6AQZf",
      "include_colab_link": true
    },
    "kernelspec": {
      "name": "python3",
      "display_name": "Python 3"
    },
    "language_info": {
      "name": "python"
    }
  },
  "cells": [
    {
      "cell_type": "markdown",
      "metadata": {
        "id": "view-in-github",
        "colab_type": "text"
      },
      "source": [
        "<a href=\"https://colab.research.google.com/github/Ferarenas14/Ferarenas14/blob/main/Pivoteo_parcial_escalado.ipynb\" target=\"_parent\"><img src=\"https://colab.research.google.com/assets/colab-badge.svg\" alt=\"Open In Colab\"/></a>"
      ]
    },
    {
      "cell_type": "markdown",
      "source": [
        "#Pivoteo parcial escalado"
      ],
      "metadata": {
        "id": "QO8UW6EzHsUu"
      }
    },
    {
      "cell_type": "code",
      "execution_count": 3,
      "metadata": {
        "colab": {
          "base_uri": "https://localhost:8080/"
        },
        "id": "0RqqCml4GV2z",
        "outputId": "a1ff18ff-15ac-4300-d5d7-0c1012212f56"
      },
      "outputs": [
        {
          "output_type": "stream",
          "name": "stdout",
          "text": [
            "La solución del sistema es:\n",
            "x1 = -0.42800441372587367\n",
            "x2 = 0.4269032296075051\n",
            "x3 = 5.114388609781965\n"
          ]
        }
      ],
      "source": [
        "import numpy as np\n",
        "\n",
        "def pivoteo_parcial_escalado(A):\n",
        "    # tamaño de la matriz\n",
        "    n = len(A)\n",
        "\n",
        "    # indicadores de fila\n",
        "    NROW = list(range(n))  # Listado de filas, donde NROW[i] es la fila que corresponde a la i-ésima posición.\n",
        "\n",
        "    # Calcular los valores de escala para cada fila\n",
        "    escala = np.max(np.abs(A[:, :-1]), axis=1)  # Máximo absoluto por fila, excluyendo la última columna (términos independientes)\n",
        "\n",
        "    # Eliminación Gaussiana con Pivoteo Parcial Escalado\n",
        "    for i in range(n - 1):\n",
        "        #  pivote escalado (valor máximo en la columna i, considerando el escalado)\n",
        "        p = i\n",
        "        max_ratio = 0  # relación máxima (relación valor absoluto / escala)\n",
        "\n",
        "        for j in range(i, n):\n",
        "            ratio = abs(A[NROW[j], i]) / escala[NROW[j]]\n",
        "            if ratio > max_ratio:\n",
        "                max_ratio = ratio\n",
        "                p = j\n",
        "\n",
        "        # Si el pivote es cero, no hay solución única\n",
        "        if A[NROW[p], i] == 0:\n",
        "            print(\"No existe solución única.\")\n",
        "            return None\n",
        "\n",
        "        # Intercambiar las filas si es necesario\n",
        "        if NROW[i] != NROW[p]:\n",
        "            NROW[i], NROW[p] = NROW[p], NROW[i]\n",
        "\n",
        "        # Realizar la eliminación\n",
        "        for j in range(i + 1, n):\n",
        "            m = A[NROW[j], i] / A[NROW[i], i]\n",
        "            A[NROW[j], i:] -= m * A[NROW[i], i:]\n",
        "\n",
        "    # Si el elemento a(NROW[n-1], n-1) es cero, no hay solución única\n",
        "    if A[NROW[n-1], n-1] == 0:\n",
        "        print(\"No existe solución única.\")\n",
        "        return None\n",
        "\n",
        "    # Sustitución hacia atrás\n",
        "    x = np.zeros(n)\n",
        "    x[n-1] = A[NROW[n-1], n] / A[NROW[n-1], n-1]\n",
        "\n",
        "    # Para i = n-2, ..., 0, calcular los valores de x\n",
        "    for i in range(n - 2, -1, -1):\n",
        "        suma = A[NROW[i], n]\n",
        "        for j in range(i + 1, n):\n",
        "            suma -= A[NROW[i], j] * x[j]\n",
        "        x[i] = suma / A[NROW[i], i]\n",
        "\n",
        "    # Salida de la solución\n",
        "    return x\n",
        "\n",
        "# Función principal para resolver el sistema y imprimir la solución\n",
        "def resolver_sistema_escalado(A):\n",
        "    x = pivoteo_parcial_escalado(A)\n",
        "\n",
        "    # Si existe una solución, imprimirla\n",
        "    if x is not None:\n",
        "        print(\"La solución del sistema es:\")\n",
        "        for i in range(len(x)):\n",
        "            print(f\"x{i+1} = {x[i]}\")\n",
        "    else:\n",
        "        print(\"No existe solución única.\")\n",
        "\n",
        "# Ejemplo :\n",
        "A = np.array([\n",
        "    [2.11, -4.21, 0.921, 2.01],\n",
        "    [4.01, 10.2, -1.12, -3.09],\n",
        "    [1.09, 0.987, 0.832, 4.21]\n",
        "], dtype=float)\n",
        "\n",
        "# función resolver_sistema con la matriz A\n",
        "resolver_sistema_escalado(A)"
      ]
    }
  ]
}