{
  "nbformat": 4,
  "nbformat_minor": 0,
  "metadata": {
    "colab": {
      "provenance": [],
      "authorship_tag": "ABX9TyP/azAKki+ehU2sRyKred+J",
      "include_colab_link": true
    },
    "kernelspec": {
      "name": "python3",
      "display_name": "Python 3"
    },
    "language_info": {
      "name": "python"
    }
  },
  "cells": [
    {
      "cell_type": "markdown",
      "metadata": {
        "id": "view-in-github",
        "colab_type": "text"
      },
      "source": [
        "<a href=\"https://colab.research.google.com/github/Ferarenas14/Ferarenas14/blob/main/M%C3%A9todo_de_M%C3%BClleripynb.ipynb\" target=\"_parent\"><img src=\"https://colab.research.google.com/assets/colab-badge.svg\" alt=\"Open In Colab\"/></a>"
      ]
    },
    {
      "cell_type": "markdown",
      "source": [
        "#Método de Müller"
      ],
      "metadata": {
        "id": "rSuZuA_hGP5l"
      }
    },
    {
      "cell_type": "code",
      "execution_count": 47,
      "metadata": {
        "id": "PgULpX0NGNlO"
      },
      "outputs": [],
      "source": [
        "from math import *\n",
        "import numpy as np\n",
        "import matplotlib . pyplot as plt\n",
        ""
      ]
    },
    {
      "cell_type": "code",
      "source": [
        "#la función original es (x^3 - x - 1)\n",
        "def f(x):\n",
        "    return x**3 - x - 1"
      ],
      "metadata": {
        "id": "ptogAvxlGbYh"
      },
      "execution_count": 48,
      "outputs": []
    },
    {
      "cell_type": "code",
      "source": [
        "# Ingreso de datos de entrada para las aproximaciones iniciales\n",
        "p0 = 1.0  # Primer aproximacion inicial\n",
        "p1 = 0.5  # Segundo aproximacion inicial\n",
        "p2 = 1.5  # Tercer aproximacion inicial\n",
        "\n",
        "#Tolerancia 10^-4\n",
        "tol = 0.0001\n",
        "\n",
        "# Número máximo de iteraciones\n",
        "nmax = 100\n",
        "\n",
        "#Se le da un valor alto, como 100, para asegurarse de que el ciclo comience\n",
        "error = 100\n",
        "\n",
        "#iniciar contador de iteraciones\n",
        "niter = 1"
      ],
      "metadata": {
        "id": "qYJXiq6MHJKe"
      },
      "execution_count": 49,
      "outputs": []
    },
    {
      "cell_type": "code",
      "source": [
        "\n",
        "p3 = p2\n",
        "h1 = 0\n",
        "h2 = 0\n",
        "a = 0\n",
        "b = 0\n",
        "D = 0\n",
        "\n",
        "# Imprimir encabezado de la tabla\n",
        "print(\"# iter\\t\\t p0 \\t\\t p1 \\t\\t p2 \\t\\t p3 \\t\\t f(p3) \\t\\t h1 \\t\\t h2 \\t\\t a \\t\\t b \\t\\t error\")\n",
        "print(\"{0} \\t\\t {1:6.6f} \\t {2:6.6f} \\t {3:6.6f} \\t {4:6.6f} \\t {5:6.6f} \\t {6:6.6f} \\t {7:6.6f} \\t {8:6.6f} \\t {9:6.6f} \\t {10:6.6f}\".format(niter+1, p0, p1, p2, p3, f(p3), h1, h2, a, b, error))\n",
        "\n",
        "while error > tol and niter < nmax:\n",
        "    # Calcular las funciones en los puntos p0, p1, y p2\n",
        "    f0 = f(p0)\n",
        "    f1 = f(p1)\n",
        "    f2 = f(p2)\n",
        "\n",
        "    # Calcular h1,h2,delta1,delta2\n",
        "    h1 = p1 - p0\n",
        "    h2 = p2 - p1\n",
        "    delta1 = (f1 - f0) / h1\n",
        "    delta2 = (f2 - f1) / h2\n",
        "    a = (delta2 - delta1) / (h2 + h1)\n",
        "\n",
        "    # Coeficientes del polinomio cuadrático\n",
        "    b = delta2 + h2 * a\n",
        "    D = np.sqrt(b**2 - 4 * f2 * d)  # Calcular la raíz cuadrada\n",
        "\n",
        "    # Determinar el denominador\n",
        "    if abs(b + D) > abs(b - D):\n",
        "        denominador = b + D\n",
        "    else:\n",
        "        denominador = b - D\n",
        "\n",
        "    # Actualizar p3 usando la fórmula del método de Müller\n",
        "    p3 = p2 - (2 * f2) / denominador\n",
        "\n",
        "    # Calcular el error\n",
        "    error = abs(p3 - p2)\n",
        "\n",
        "    # Actualizar los valores para la próxima iteración\n",
        "    p0, p1, p2 = p1, p2, p3\n",
        "    niter += 1\n",
        "    print(\"{0} \\t\\t {1:6.6f} \\t {2:6.6f} \\t {3:6.6f} \\t {4:6.6f} \\t {5:6.6f} \\t {6:6.6f} \\t {7:6.6f} \\t {8:6.6f} \\t {9:6.6f} \\t {10:6.6f}\".format(niter+1, p0, p1, p2, p3, f(p3), h1, h2, a, b, error))\n",
        "\n",
        "\n",
        "# Imprimir la raíz final\n",
        "print(\"\\nLa raíz aproximada de la función es {0:6.7f}\".format(p3))"
      ],
      "metadata": {
        "colab": {
          "base_uri": "https://localhost:8080/"
        },
        "id": "kD16A28jHUo2",
        "outputId": "fb78c723-35da-431c-99c9-85645df162df"
      },
      "execution_count": 50,
      "outputs": [
        {
          "output_type": "stream",
          "name": "stdout",
          "text": [
            "# iter\t\t p0 \t\t p1 \t\t p2 \t\t p3 \t\t f(p3) \t\t h1 \t\t h2 \t\t a \t\t b \t\t error\n",
            "2 \t\t 1.000000 \t 0.500000 \t 1.500000 \t 1.500000 \t 0.875000 \t 0.000000 \t 0.000000 \t 0.000000 \t 0.000000 \t 100.000000\n",
            "3 \t\t 0.500000 \t 1.500000 \t 1.302631 \t 1.302631 \t -0.092263 \t -0.500000 \t 1.000000 \t 3.000000 \t 5.250000 \t 0.197369\n",
            "4 \t\t 1.500000 \t 1.302631 \t 1.323905 \t 1.323905 \t -0.003464 \t 1.000000 \t -0.197369 \t 3.302631 \t 4.248960 \t 0.021274\n",
            "5 \t\t 1.302631 \t 1.323905 \t 1.324717 \t 1.324717 \t -0.000003 \t -0.197369 \t 0.021274 \t 4.126536 \t 4.261919 \t 0.000812\n",
            "6 \t\t 1.323905 \t 1.324717 \t 1.324718 \t 1.324718 \t 0.000000 \t 0.021274 \t 0.000812 \t 3.951254 \t 4.264609 \t 0.000001\n",
            "\n",
            "La raíz aproximada de la función es 1.3247180\n"
          ]
        }
      ]
    },
    {
      "cell_type": "code",
      "source": [],
      "metadata": {
        "id": "DCaP-LdVHKFd"
      },
      "execution_count": null,
      "outputs": []
    }
  ]
}