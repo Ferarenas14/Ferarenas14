{
  "nbformat": 4,
  "nbformat_minor": 0,
  "metadata": {
    "colab": {
      "provenance": [],
      "authorship_tag": "ABX9TyPYrehF9INrUFATzBkw6Lmi",
      "include_colab_link": true
    },
    "kernelspec": {
      "name": "python3",
      "display_name": "Python 3"
    },
    "language_info": {
      "name": "python"
    }
  },
  "cells": [
    {
      "cell_type": "markdown",
      "metadata": {
        "id": "view-in-github",
        "colab_type": "text"
      },
      "source": [
        "<a href=\"https://colab.research.google.com/github/Ferarenas14/Ferarenas14/blob/main/neville_con_tabla_.ipynb\" target=\"_parent\"><img src=\"https://colab.research.google.com/assets/colab-badge.svg\" alt=\"Open In Colab\"/></a>"
      ]
    },
    {
      "cell_type": "markdown",
      "source": [
        "#Polinomio de Lagrange por el método de Neville"
      ],
      "metadata": {
        "id": "Ub89XReQzUWs"
      }
    },
    {
      "cell_type": "code",
      "execution_count": 4,
      "metadata": {
        "colab": {
          "base_uri": "https://localhost:8080/"
        },
        "id": "IZ6ZCxqUykRo",
        "outputId": "a15ea0f4-ed89-4874-f454-748024eaf140"
      },
      "outputs": [
        {
          "output_type": "stream",
          "name": "stdout",
          "text": [
            "xi      Q0,0  Q1,1  Q2,2  Q3,3  Q4,4\n",
            "x0      0.765198  0.000000  0.000000  0.000000  0.000000\n",
            "x1      0.620086  0.000000  0.000000  0.000000  0.000000\n",
            "x2      0.455402  0.000000  0.000000  0.000000  0.000000\n",
            "x3      0.281819  0.000000  0.000000  0.000000  0.000000\n",
            "x4      0.110362  0.000000  0.000000  0.000000  0.000000\n",
            "x0      0.765198  0.523345      \n",
            "x1      0.620086  0.510297      \n",
            "x2      0.455402  0.513263      \n",
            "x3      0.281819  0.510427      \n",
            "x0      0.765198  0.523345  0.512471    \n",
            "x1      0.620086  0.510297  0.511286    \n",
            "x2      0.455402  0.513263  0.513736    \n",
            "x0      0.765198  0.523345  0.512471  0.511813  \n",
            "x1      0.620086  0.510297  0.511286  0.511830  \n",
            "x0      0.765198  0.523345  0.512471  0.511813  0.511820\n",
            "El valor interpolado en x = 1.5 es: 0.5118199942386831\n"
          ]
        }
      ],
      "source": [
        "def neville(xi, y, x):\n",
        "\n",
        "    n = len(xi)\n",
        "    # Crea una tabla de interpolación con los valores de f(x)\n",
        "    Q = [[0] * n for _ in range(n)]\n",
        "\n",
        "    # Inicializar la primera columna con los valores de y\n",
        "    for i in range(n):\n",
        "        Q[i][0] = y[i]\n",
        "\n",
        "    # Imprimir encabezados de la tabla\n",
        "    header = [\"xi\"] + [f\"Q{i},{i}\" for i in range(n)]  # Encabezado con Q0,0, Q1,1, ...\n",
        "    print(\"{:<6}  {}\".format(header[0], \"  \".join(header[1:])))\n",
        "\n",
        "\n",
        "    # Imprimir los valores iniciales de la tabla\n",
        "    for i in range(n):\n",
        "        row = [f\"x{i}\"] + [f\"{Q[i][j]:.6f}\" for j in range(n)]  # Los valores de Q[i,0], Q[i,1], ...\n",
        "        print(\"{:<6}  {}\".format(row[0], \"  \".join(row[1:])))\n",
        "\n",
        "    # Calcula los valores en la tabla usando el método de Neville\n",
        "    for j in range(1, n):\n",
        "        for i in range(n - j):\n",
        "            Q[i][j] = ((x - xi[i + j]) * Q[i][j - 1] - (x - xi[i]) * Q[i + 1][j - 1]) / (xi[i] - xi[i + j])\n",
        "\n",
        "        # Imprimir la tabla después de cada columna calculada\n",
        "        for i in range(n - j):\n",
        "            row = [f\"x{i}\"] + [f\"{Q[i][k]:.6f}\" for k in range(j + 1)] + [\"\"] * (n - j - 1)\n",
        "            print(\"{:<6}  {}\".format(row[0], \"  \".join(row[1:])))\n",
        "\n",
        "    # El valor interpolado estará en la posición (0, n-1)\n",
        "    return Q[0][n - 1]\n",
        "\n",
        "\n",
        "xi = [1.0, 1.3, 1.6, 1.9, 2.2] #valores de x\n",
        "y = [0.7651977, 0.6200860, 0.4554022, 0.2818186, 0.1103623] #valores de f(x)\n",
        "x_interpolado = 1.5 #valor interpolado en x\n",
        "\n",
        "resultado = neville(xi, y, x_interpolado)\n",
        "print(f\"El valor interpolado en x = {x_interpolado} es: {resultado}\")"
      ]
    }
  ]
}