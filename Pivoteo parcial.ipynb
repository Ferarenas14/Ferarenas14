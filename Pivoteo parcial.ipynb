{
  "nbformat": 4,
  "nbformat_minor": 0,
  "metadata": {
    "colab": {
      "provenance": [],
      "authorship_tag": "ABX9TyMEbMTtp/BoQf/DZxb3rroQ",
      "include_colab_link": true
    },
    "kernelspec": {
      "name": "python3",
      "display_name": "Python 3"
    },
    "language_info": {
      "name": "python"
    }
  },
  "cells": [
    {
      "cell_type": "markdown",
      "metadata": {
        "id": "view-in-github",
        "colab_type": "text"
      },
      "source": [
        "<a href=\"https://colab.research.google.com/github/Ferarenas14/Ferarenas14/blob/main/Pivoteo%20parcial.ipynb\" target=\"_parent\"><img src=\"https://colab.research.google.com/assets/colab-badge.svg\" alt=\"Open In Colab\"/></a>"
      ]
    },
    {
      "cell_type": "markdown",
      "source": [
        "#Pivoteo parcial"
      ],
      "metadata": {
        "id": "SQfO7Cgr0ePl"
      }
    },
    {
      "cell_type": "code",
      "source": [
        "import numpy as np\n",
        "\n",
        "def pivoteo_parcial(A):\n",
        "    # tamaño de la matriz\n",
        "    n = len(A)\n",
        "\n",
        "    # indicador de fila\n",
        "    NROW = list(range(n))  # Listado de filas, donde NROW[i] es la fila que corresponde a la i-ésima posición.\n",
        "\n",
        "    # Eliminación Gaussiana con Pivoteo Parcial\n",
        "    for i in range(n - 1):\n",
        "        # Encontrar el pivote (valor máximo en la columna i)\n",
        "        p = i\n",
        "        for j in range(i + 1, n):\n",
        "            if abs(A[NROW[j], i]) > abs(A[NROW[p], i]):\n",
        "                p = j\n",
        "\n",
        "        # Si el pivote es cero, no hay solución única\n",
        "        if A[NROW[p], i] == 0:\n",
        "            print(\"No existe solución única.\")\n",
        "            return None\n",
        "\n",
        "        # Intercambiar las filas si es necesario\n",
        "        if NROW[i] != NROW[p]:\n",
        "            NROW[i], NROW[p] = NROW[p], NROW[i]\n",
        "\n",
        "        #  Realizar la eliminación\n",
        "        for j in range(i + 1, n):\n",
        "            m = A[NROW[j], i] / A[NROW[i], i]\n",
        "            A[NROW[j], i:] -= m * A[NROW[i], i:]\n",
        "\n",
        "    #  Si el elemento a(NROW[n-1], n-1) es cero, no hay solución única\n",
        "    if A[NROW[n-1], n-1] == 0:\n",
        "        print(\"No existe solución única.\")\n",
        "        return None\n",
        "\n",
        "    # Sustitución hacia atrás\n",
        "    x = np.zeros(n)\n",
        "    x[n-1] = A[NROW[n-1], n] / A[NROW[n-1], n-1]\n",
        "\n",
        "    # Para i = n-2, ..., 0, calcular los valores de x\n",
        "    for i in range(n - 2, -1, -1):\n",
        "        suma = A[NROW[i], n]\n",
        "        for j in range(i + 1, n):\n",
        "            suma -= A[NROW[i], j] * x[j]\n",
        "        x[i] = suma / A[NROW[i], i]\n",
        "\n",
        "    # Salida de la solución\n",
        "    return x\n",
        "\n",
        "# Función principal para resolver el sistema y imprimir la solución\n",
        "def resolver_sistema(A):\n",
        "    x = pivoteo_parcial(A)\n",
        "\n",
        "    # Si existe una solución, imprimirla\n",
        "    if x is not None:\n",
        "        print(\"La solución del sistema es:\")\n",
        "        for i in range(len(x)):\n",
        "            print(f\"x{i+1} = {x[i]}\")\n",
        "    else:\n",
        "        print(\"No existe solución única.\")\n",
        "\n",
        "# Ejemplo\n",
        "A = np.array([\n",
        "    [0.003000, 59.14, 59.17],\n",
        "    [5.291, -6.130, 46.78]\n",
        "], dtype=float)\n",
        "\n",
        "#  resolver_sistema con la matriz A\n",
        "resolver_sistema(A)"
      ],
      "metadata": {
        "colab": {
          "base_uri": "https://localhost:8080/"
        },
        "id": "6rKfPGPc0B41",
        "outputId": "8dfb5cba-cc1a-4a3c-d183-b89f7cbe51d3"
      },
      "execution_count": 25,
      "outputs": [
        {
          "output_type": "stream",
          "name": "stdout",
          "text": [
            "La solución del sistema es:\n",
            "x1 = 10.0\n",
            "x2 = 1.0\n"
          ]
        }
      ]
    }
  ]
}