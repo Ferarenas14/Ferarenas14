{
  "nbformat": 4,
  "nbformat_minor": 0,
  "metadata": {
    "colab": {
      "provenance": [],
      "authorship_tag": "ABX9TyN7oyIYAhWiNJt5X1sksc+S",
      "include_colab_link": true
    },
    "kernelspec": {
      "name": "python3",
      "display_name": "Python 3"
    },
    "language_info": {
      "name": "python"
    }
  },
  "cells": [
    {
      "cell_type": "markdown",
      "metadata": {
        "id": "view-in-github",
        "colab_type": "text"
      },
      "source": [
        "<a href=\"https://colab.research.google.com/github/Ferarenas14/Ferarenas14/blob/main/Tutorial%20Numpy.ipynb\" target=\"_parent\"><img src=\"https://colab.research.google.com/assets/colab-badge.svg\" alt=\"Open In Colab\"/></a>"
      ]
    },
    {
      "cell_type": "markdown",
      "source": [
        "# **Tutorial de Numpy**"
      ],
      "metadata": {
        "id": "wGWQQqk3mjmN"
      }
    },
    {
      "cell_type": "markdown",
      "source": [
        "**¿Qué es NumPy?**\n",
        "NumPy es una biblioteca de Python fundamental para el cálculo numérico. para el lenguaje de programación Python que da soporte para crear vectores y matrices grandes multidimensionales. Es especialmente útil para realizar cálculos matemáticos y operaciones sobre grandes conjuntos de datos.  "
      ],
      "metadata": {
        "id": "8PaOAA4VmwPX"
      }
    },
    {
      "cell_type": "markdown",
      "source": [
        " **Importación de NumPy**\n",
        "Para utilizar NumPy en un código, debes importarlo. se puede importar como np:"
      ],
      "metadata": {
        "id": "QxJLz6wtnYzH"
      }
    },
    {
      "cell_type": "code",
      "source": [
        "import numpy as np"
      ],
      "metadata": {
        "id": "Wajj1kWRnrYo"
      },
      "execution_count": 2,
      "outputs": []
    },
    {
      "cell_type": "markdown",
      "source": [
        "**Funciones básicas de NumPy**\n",
        "\n",
        "\n",
        "1.   Creación de arreglos: NumPy ofrece varias maneras de crear arreglos:\n",
        "\n",
        "\n"
      ],
      "metadata": {
        "id": "fkeXW2Urn6aI"
      }
    },
    {
      "cell_type": "code",
      "source": [
        "#Arreglo a partir de una lista:\n",
        "a = np.array([1, 2, 3, 4])\n",
        "print(a)"
      ],
      "metadata": {
        "colab": {
          "base_uri": "https://localhost:8080/"
        },
        "id": "l39hZTHuoi5w",
        "outputId": "c403d2c2-d074-4dfb-b1aa-d7f10631f00c"
      },
      "execution_count": 4,
      "outputs": [
        {
          "output_type": "stream",
          "name": "stdout",
          "text": [
            "[1 2 3 4]\n"
          ]
        }
      ]
    },
    {
      "cell_type": "code",
      "source": [
        "#Arreglo de ceros:\n",
        "zeros_array = np.zeros((3, 4))  # Crea un arreglo 3x4 lleno de ceros\n",
        "print(zeros_array)"
      ],
      "metadata": {
        "colab": {
          "base_uri": "https://localhost:8080/"
        },
        "id": "3j7w8l8po1Kf",
        "outputId": "2aca5155-943c-41a9-ecb0-95c02cf42b1f"
      },
      "execution_count": 5,
      "outputs": [
        {
          "output_type": "stream",
          "name": "stdout",
          "text": [
            "[[0. 0. 0. 0.]\n",
            " [0. 0. 0. 0.]\n",
            " [0. 0. 0. 0.]]\n"
          ]
        }
      ]
    },
    {
      "cell_type": "code",
      "source": [
        "#Arreglo de unos:\n",
        "ones_array = np.ones((2, 3))  # Crea un arreglo 2x3 lleno de unos\n",
        "print(ones_array)\n"
      ],
      "metadata": {
        "colab": {
          "base_uri": "https://localhost:8080/"
        },
        "id": "oQRIZ_OZo_O3",
        "outputId": "b45b1109-95af-4fbf-fc72-3c41e782dba3"
      },
      "execution_count": 6,
      "outputs": [
        {
          "output_type": "stream",
          "name": "stdout",
          "text": [
            "[[1. 1. 1.]\n",
            " [1. 1. 1.]]\n"
          ]
        }
      ]
    },
    {
      "cell_type": "code",
      "source": [
        "#Arreglo con valores específicos:\n",
        "range_array = np.arange(0, 10, 2)  # Crea un arreglo de 0 a 10 de 2 en 2\n",
        "print(range_array)"
      ],
      "metadata": {
        "colab": {
          "base_uri": "https://localhost:8080/"
        },
        "id": "b3Up1rukpFs3",
        "outputId": "9b557f00-ba64-44f0-a32f-1bb6cc7ae234"
      },
      "execution_count": 7,
      "outputs": [
        {
          "output_type": "stream",
          "name": "stdout",
          "text": [
            "[0 2 4 6 8]\n"
          ]
        }
      ]
    },
    {
      "cell_type": "code",
      "source": [
        "#Arreglo de números aleatorios:\n",
        "random_array = np.random.rand(2, 3)  # Crea un arreglo 2x3 con números aleatorios entre 0 y 1\n",
        "print(random_array)"
      ],
      "metadata": {
        "colab": {
          "base_uri": "https://localhost:8080/"
        },
        "id": "ESJKpUKfpRSX",
        "outputId": "41c59707-7490-4e9a-eb2c-321936ebd59e"
      },
      "execution_count": 8,
      "outputs": [
        {
          "output_type": "stream",
          "name": "stdout",
          "text": [
            "[[0.30713022 0.43375507 0.99917466]\n",
            " [0.49377594 0.22982229 0.61144078]]\n"
          ]
        }
      ]
    },
    {
      "cell_type": "markdown",
      "source": [
        "\n",
        "\n",
        "2.   Operaciones básicas\n",
        "\n"
      ],
      "metadata": {
        "id": "vSrBBus5pdVw"
      }
    },
    {
      "cell_type": "code",
      "source": [
        "#Suma, resta, multiplicación y división:\n",
        "a = np.array([1, 2, 3])\n",
        "b = np.array([4, 5, 6])\n",
        "\n",
        "print(a + b)  # Suma\n",
        "print(a - b)  # Resta\n",
        "print(a * b)  # Multiplicación\n",
        "print(a / b)  # División"
      ],
      "metadata": {
        "colab": {
          "base_uri": "https://localhost:8080/"
        },
        "id": "Kxuo9gOZplfH",
        "outputId": "18bb07ca-eafa-4c21-d7b0-5a1197e350e0"
      },
      "execution_count": 10,
      "outputs": [
        {
          "output_type": "stream",
          "name": "stdout",
          "text": [
            "[5 7 9]\n",
            "[-3 -3 -3]\n",
            "[ 4 10 18]\n",
            "[0.25 0.4  0.5 ]\n"
          ]
        }
      ]
    },
    {
      "cell_type": "code",
      "source": [
        "#Operaciones elemento a elemento:\n",
        "c = np.array([[1, 2], [3, 4]])\n",
        "d = np.array([[5, 6], [7, 8]])\n",
        "\n",
        "print(c + d)  # Suma de matrices\n",
        "print(c * d)  # Multiplicación de matrices elemento a elemento"
      ],
      "metadata": {
        "colab": {
          "base_uri": "https://localhost:8080/"
        },
        "id": "j1PE8O1IpyRv",
        "outputId": "a67e6486-a7d6-4b1b-b65b-4b9fdf74cb95"
      },
      "execution_count": 11,
      "outputs": [
        {
          "output_type": "stream",
          "name": "stdout",
          "text": [
            "[[ 6  8]\n",
            " [10 12]]\n",
            "[[ 5 12]\n",
            " [21 32]]\n"
          ]
        }
      ]
    },
    {
      "cell_type": "markdown",
      "source": [
        "3. Funciones"
      ],
      "metadata": {
        "id": "TQNmxCo8p9JQ"
      }
    },
    {
      "cell_type": "code",
      "source": [
        "#Funciones estadísticas:\n",
        "data = np.array([1, 2, 3, 4, 5])\n",
        "print(np.mean(data))    # Media\n",
        "print(np.median(data))  # Mediana\n",
        "print(np.std(data))     # Desviación estándar"
      ],
      "metadata": {
        "colab": {
          "base_uri": "https://localhost:8080/"
        },
        "id": "W5-tekqAp_ro",
        "outputId": "8c1701a2-7a3f-44df-9f28-277b032019d7"
      },
      "execution_count": 12,
      "outputs": [
        {
          "output_type": "stream",
          "name": "stdout",
          "text": [
            "3.0\n",
            "3.0\n",
            "1.4142135623730951\n"
          ]
        }
      ]
    },
    {
      "cell_type": "code",
      "source": [
        "#Funciones de álgebra lineal\n",
        "matrix = np.array([[1, 2], [3, 4]])\n",
        "print(np.linalg.inv(matrix))  # Inversa de una matriz"
      ],
      "metadata": {
        "colab": {
          "base_uri": "https://localhost:8080/"
        },
        "id": "fm95y5WtqGmQ",
        "outputId": "1d572a72-6af1-4cd1-f73f-c29913b94224"
      },
      "execution_count": 13,
      "outputs": [
        {
          "output_type": "stream",
          "name": "stdout",
          "text": [
            "[[-2.   1. ]\n",
            " [ 1.5 -0.5]]\n"
          ]
        }
      ]
    },
    {
      "cell_type": "markdown",
      "source": [
        "**Interpolación con NumPy**:Para la interpolación, se puede usar la función np.polyfit para obtener los coeficientes del polinomio dependiendo de los datos, y np.polyval para evaluar el polinomio en puntos específicos.\n"
      ],
      "metadata": {
        "id": "WTlac-fNqPIg"
      }
    },
    {
      "cell_type": "code",
      "source": [
        "#Ejemplo de interpolación\n",
        "# Datos\n",
        "x = np.array([0, 1, 2, 3, 4])\n",
        "y = np.array([1, 2, 0, 2, 3])\n",
        "\n",
        "# Ajustar un polinomio de grado 2\n",
        "coeficientes = np.polyfit(x, y, 2)\n",
        "\n",
        "# Crear una función polinómica a partir de los coeficientes\n",
        "polinomio = np.poly1d(coeficientes)\n",
        "\n",
        "# Evaluar el polinomio en un rango de valores\n",
        "x_nuevo = np.linspace(0, 4, 100)  # 100 puntos entre 0 y 4\n",
        "y_nuevo = polinomio(x_nuevo)\n",
        "\n",
        "print(\"Coeficientes del polinomio:\", coeficientes)\n"
      ],
      "metadata": {
        "colab": {
          "base_uri": "https://localhost:8080/"
        },
        "id": "NKUprfhoqga4",
        "outputId": "b067fda0-5210-4434-bc60-5625090bdecd"
      },
      "execution_count": 14,
      "outputs": [
        {
          "output_type": "stream",
          "name": "stdout",
          "text": [
            "Coeficientes del polinomio: [ 0.28571429 -0.74285714  1.37142857]\n"
          ]
        }
      ]
    },
    {
      "cell_type": "markdown",
      "source": [
        "**Graficar datos**:Para graficar los datos y el polinomio interpolador, se  utiliza la biblioteca matplotlib"
      ],
      "metadata": {
        "id": "nBfSiW4Lqv7P"
      }
    },
    {
      "cell_type": "code",
      "source": [
        "#Ejemplo\n",
        "import matplotlib.pyplot as plt\n",
        "\n",
        "# Graficar los datos originales\n",
        "plt.scatter(x, y, color='violet', label='Datos Originales')\n",
        "\n",
        "# Graficar el polinomio interpolador\n",
        "plt.plot(x_nuevo, y_nuevo, label='Polinomio Interpolado', color='turquoise')\n",
        "\n",
        "# Configuración de la gráfica\n",
        "plt.title('Interpolación ')\n",
        "plt.xlabel('x')\n",
        "plt.ylabel('y')\n",
        "plt.legend()\n",
        "plt.grid()\n",
        "plt.show()\n"
      ],
      "metadata": {
        "colab": {
          "base_uri": "https://localhost:8080/",
          "height": 472
        },
        "id": "0_nZkFxAq9L9",
        "outputId": "8836ccc8-c558-4cff-8d41-aefddf8502cc"
      },
      "execution_count": 21,
      "outputs": [
        {
          "output_type": "display_data",
          "data": {
            "text/plain": [
              "<Figure size 640x480 with 1 Axes>"
            ],
            "image/png": "[encoded data removed]"
          },
          "metadata": {}
        }
      ]
    }
  ]
}