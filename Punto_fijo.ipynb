{
  "nbformat": 4,
  "nbformat_minor": 0,
  "metadata": {
    "colab": {
      "provenance": [],
      "authorship_tag": "ABX9TyMnqELElKSsX8vUO8GXoYik",
      "include_colab_link": true
    },
    "kernelspec": {
      "name": "python3",
      "display_name": "Python 3"
    },
    "language_info": {
      "name": "python"
    }
  },
  "cells": [
    {
      "cell_type": "markdown",
      "metadata": {
        "id": "view-in-github",
        "colab_type": "text"
      },
      "source": [
        "<a href=\"https://colab.research.google.com/github/Ferarenas14/Ferarenas14/blob/main/Punto_fijo.ipynb\" target=\"_parent\"><img src=\"https://colab.research.google.com/assets/colab-badge.svg\" alt=\"Open In Colab\"/></a>"
      ]
    },
    {
      "cell_type": "markdown",
      "source": [
        "# Método de Punto fijo"
      ],
      "metadata": {
        "id": "wJHASZAZFu1t"
      }
    },
    {
      "cell_type": "code",
      "execution_count": 92,
      "metadata": {
        "id": "_5Smb2nAWAJo"
      },
      "outputs": [],
      "source": [
        "from math import *\n",
        "import numpy as np\n",
        "import matplotlib . pyplot as plt"
      ]
    },
    {
      "cell_type": "code",
      "source": [
        "#la función  es (x^3 - x - 1) pero como no cumple con las\n",
        "#condiciones para el método de punto fijo la transformamos\n",
        "def g(x):\n",
        "    return (x + 1)**(1/3)"
      ],
      "metadata": {
        "id": "qqLnB6VuWJXl"
      },
      "execution_count": 93,
      "outputs": []
    },
    {
      "cell_type": "code",
      "source": [
        "# Ingreso datos de entrada para la aproximacion inicial\n",
        "p0=1\n",
        "\n",
        "#guarda valores iniciales del error y del número de iteraciones\n",
        "\n",
        "#Tolerancia 10^-2\n",
        "tol = 0.01\n",
        "\n",
        "# Número máximo de iteraciones\n",
        "nmax = 100\n",
        "\n",
        "#Se le da un valor alto, como 100, para asegurarse de que el ciclo comience\n",
        "error = 100\n",
        "\n",
        "#iniciar contador de iteraciones\n",
        "niter = 1\n"
      ],
      "metadata": {
        "id": "i4vehOtKWRFt"
      },
      "execution_count": 94,
      "outputs": []
    },
    {
      "cell_type": "code",
      "source": [
        "# Método de punto fijo\n",
        "#usaremos cortar los decimales\n",
        "# Evaluación inicial\n",
        "p = p0\n",
        "\n",
        "#mprimir encabezado de la tabla\n",
        "print(\"# iter\\t\\t p \\t\\t g(p) \\t\\t error\")\n",
        "print(\"{0} \\t\\t {1:6.4f} \\t {2:6.4f} \\t {3:6.4f}\".format(niter, p, g(p), error))\n",
        "\n",
        "# Ciclo iterativo del método de punto fijo\n",
        "while error > tol and niter < nmax: #verificar si el error es menor que la tolerancia\n",
        "    p = g(p0)\n",
        "    error = abs(p - p0)  # Calculamos el error\n",
        "    niter += 1\n",
        "    p0= p  # Actualizamos p0 con el nuevo valor de p\n",
        "    print(\"{0} \\t\\t {1:6.4f} \\t {2:6.4f} \\t {3:6.4f}\".format(niter, p, g(p), error))\n",
        "\n",
        "print(\"La raíz de la función dada es {0:6.7f}\".format(p))"
      ],
      "metadata": {
        "colab": {
          "base_uri": "https://localhost:8080/"
        },
        "id": "_ahURAf6Wgy1",
        "outputId": "acddf121-b1fd-46e5-ca02-2d3ae1a719e5"
      },
      "execution_count": 95,
      "outputs": [
        {
          "output_type": "stream",
          "name": "stdout",
          "text": [
            "# iter\t\t p \t\t g(p) \t\t error\n",
            "1 \t\t 1.0000 \t 1.2599 \t 100.0000\n",
            "2 \t\t 1.2599 \t 1.3123 \t 0.2599\n",
            "3 \t\t 1.3123 \t 1.3224 \t 0.0524\n",
            "4 \t\t 1.3224 \t 1.3243 \t 0.0101\n",
            "5 \t\t 1.3243 \t 1.3246 \t 0.0019\n",
            "La raíz de la función dada es 1.3242687\n"
          ]
        }
      ]
    }
  ]
}