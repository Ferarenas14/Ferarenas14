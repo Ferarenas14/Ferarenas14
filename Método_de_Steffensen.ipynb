{
  "nbformat": 4,
  "nbformat_minor": 0,
  "metadata": {
    "colab": {
      "provenance": [],
      "authorship_tag": "ABX9TyMUEc2JQ8nuiKcMwmzXOgb4",
      "include_colab_link": true
    },
    "kernelspec": {
      "name": "python3",
      "display_name": "Python 3"
    },
    "language_info": {
      "name": "python"
    }
  },
  "cells": [
    {
      "cell_type": "markdown",
      "metadata": {
        "id": "view-in-github",
        "colab_type": "text"
      },
      "source": [
        "<a href=\"https://colab.research.google.com/github/Ferarenas14/Ferarenas14/blob/main/M%C3%A9todo_de_Steffensen.ipynb\" target=\"_parent\"><img src=\"https://colab.research.google.com/assets/colab-badge.svg\" alt=\"Open In Colab\"/></a>"
      ]
    },
    {
      "cell_type": "markdown",
      "source": [
        "#Método de Steffensen\n"
      ],
      "metadata": {
        "id": "hdQquNKb3DN-"
      }
    },
    {
      "cell_type": "code",
      "execution_count": 6,
      "metadata": {
        "id": "3xhRhUAu3BWE"
      },
      "outputs": [],
      "source": [
        "from math import *\n",
        "import numpy as np\n",
        "import matplotlib . pyplot as plt"
      ]
    },
    {
      "cell_type": "code",
      "source": [
        "#la función original es f(x) = cos(x) - 2x + 3 = 0\n",
        "def f(x):\n",
        "    return cos(x) - 2*x + 3"
      ],
      "metadata": {
        "id": "TRrn0Uj63TOO"
      },
      "execution_count": 7,
      "outputs": []
    },
    {
      "cell_type": "code",
      "source": [
        "# Ingreso datos de entrada para la aproximacion inicial\n",
        "p0=1\n",
        "\n",
        "#guarda valores iniciales del error y del número de iteraciones\n",
        "\n",
        "#Tolerancia 10^-5\n",
        "tol = 0.00001\n",
        "\n",
        "# Número máximo de iteraciones\n",
        "nmax = 100\n",
        "\n",
        "#Se le da un valor alto, como 100, para asegurarse de que el ciclo comience\n",
        "error = 100\n",
        "\n",
        "#iniciar contador de iteraciones\n",
        "niter = 1"
      ],
      "metadata": {
        "id": "Yj5VzzIu3j-G"
      },
      "execution_count": 8,
      "outputs": []
    },
    {
      "cell_type": "code",
      "source": [
        "# Método de Steffensen\n",
        "#usaremos cortar los decimales\n",
        "# Evaluación inicial\n",
        "p0=1\n",
        "\n",
        "p=p0\n",
        "\n",
        "\n",
        "#mprimir encabezado de la tabla\n",
        "print(\"# iter\\t\\t p \\t\\t f(p) \\t\\t error\")\n",
        "print(\"{0} \\t\\t {1:6.6f} \\t {2:6.6f} \\t {3:6.6f}\".format(niter, p, f(p), error))\n",
        "\n",
        "\n",
        "# Ciclo iterativo del método de Steffensen\n",
        "while error > tol and niter < nmax: #verificar si el error es menor que la tolerancia\n",
        "    f_p0 = f(p0)\n",
        "    p1 = p0 + f_p0  # Calculamos p1 como f(p0)\n",
        "    f_p1 = f(p1)\n",
        "    # Aplicamos la fórmula de Steffensen\n",
        "    p = p0 - (f_p0**2) / (f_p1 - f_p0)\n",
        "    error = abs(p - p0) # Calcular el error\n",
        "    niter += 1\n",
        "    p0 = p # Actualizamos p0 para la siguiente iteración\n",
        "    print(\"{0} \\t\\t {1:6.6f} \\t {2:6.6f} \\t {3:6.6f}\".format(niter, p, f(p), error))\n",
        "\n",
        "print(\"La raíz de la función es {0:6.7f}\".format(p))"
      ],
      "metadata": {
        "colab": {
          "base_uri": "https://localhost:8080/"
        },
        "id": "EMuracbh41Rt",
        "outputId": "938838bb-311f-49ef-f412-33738ea1badd"
      },
      "execution_count": 9,
      "outputs": [
        {
          "output_type": "stream",
          "name": "stdout",
          "text": [
            "# iter\t\t p \t\t f(p) \t\t error\n",
            "1 \t\t 1.000000 \t 1.540302 \t 100.000000\n",
            "2 \t\t 1.533691 \t -0.030286 \t 0.533691\n",
            "3 \t\t 1.523591 \t 0.000005 \t 0.010100\n",
            "4 \t\t 1.523593 \t 0.000000 \t 0.000002\n",
            "La raíz de la función es 1.5235929\n"
          ]
        }
      ]
    }
  ]
}