{
  "nbformat": 4,
  "nbformat_minor": 0,
  "metadata": {
    "colab": {
      "provenance": [],
      "authorship_tag": "ABX9TyMmqhJX3DXLte0vDCIg4V8H",
      "include_colab_link": true
    },
    "kernelspec": {
      "name": "python3",
      "display_name": "Python 3"
    },
    "language_info": {
      "name": "python"
    }
  },
  "cells": [
    {
      "cell_type": "markdown",
      "metadata": {
        "id": "view-in-github",
        "colab_type": "text"
      },
      "source": [
        "<a href=\"https://colab.research.google.com/github/Ferarenas14/Ferarenas14/blob/main/Eliminaci%C3%B3n_gaussiana_.ipynb\" target=\"_parent\"><img src=\"https://colab.research.google.com/assets/colab-badge.svg\" alt=\"Open In Colab\"/></a>"
      ]
    },
    {
      "cell_type": "markdown",
      "source": [
        "#Eliminación gaussiana"
      ],
      "metadata": {
        "id": "URt1gtt7LFUe"
      }
    },
    {
      "cell_type": "code",
      "execution_count": 3,
      "metadata": {
        "colab": {
          "base_uri": "https://localhost:8080/"
        },
        "id": "vqK29PezKEQX",
        "outputId": "4708aa16-2805-4794-a61a-f1bbfd0f0060"
      },
      "outputs": [
        {
          "output_type": "stream",
          "name": "stdout",
          "text": [
            "La solución del sistema es:\n",
            "x1 = -7.0\n",
            "x2 = 3.0\n",
            "x3 = 2.0\n",
            "x4 = 2.0\n"
          ]
        }
      ],
      "source": [
        "import numpy as np\n",
        "\n",
        "def eliminacion_gaussiana(A):\n",
        "    n = len(A)  # Número de incógnitas/ecuaciones (filas de la matriz A)\n",
        "\n",
        "    #  Proceso de eliminación para cada columna (i)\n",
        "    for i in range(n - 1):  # Para cada columna de 1 a n-1\n",
        "        # Encontrar el pivote\n",
        "        p = i\n",
        "        for j in range(i, n):\n",
        "            if A[j, i] != 0:\n",
        "                p = j\n",
        "                break\n",
        "\n",
        "        #  Si el pivote es cero, no hay solución única\n",
        "        if A[p, i] == 0:\n",
        "            print(\"No existe una solución única.\")\n",
        "            return None\n",
        "\n",
        "        # Intercambiar filas (si es necesario)\n",
        "        if p != i:\n",
        "            A[[i, p]] = A[[p, i]]\n",
        "\n",
        "        #  Eliminación hacia abajo\n",
        "        for j in range(i + 1, n):\n",
        "            m = A[j, i] / A[i, i]  # Factor multiplicativo\n",
        "            A[j, i:] -= m * A[i, i:]  # Realiza la eliminación de la fila j\n",
        "\n",
        "    #  Comprobar el último pivote\n",
        "    if A[n-1, n-1] == 0:\n",
        "        print(\"No existe una solución única.\")\n",
        "        return None\n",
        "\n",
        "    # Sustitución hacia atrás\n",
        "    x = np.zeros(n)\n",
        "    x[n - 1] = A[n - 1, n] / A[n - 1, n - 1]  # Última incógnita\n",
        "\n",
        "    # Sustitución hacia atrás desde la última ecuación hacia la primera\n",
        "    for i in range(n - 2, -1, -1):  # Desde n-2 hasta 0\n",
        "        suma = A[i, n]  # Término independiente de la ecuación\n",
        "        for j in range(i + 1, n):\n",
        "            suma -= A[i, j] * x[j]  # Resta los términos ya calculados\n",
        "        x[i] = suma / A[i, i]  # Calcula la incógnita\n",
        "\n",
        "    #  solución\n",
        "    return x\n",
        "\n",
        "# Función principal para resolver el sistema e imprimir la solución\n",
        "def resolver_sistema(A):\n",
        "    x = eliminacion_gaussiana(A)\n",
        "\n",
        "    if x is not None:\n",
        "        print(\"La solución del sistema es:\")\n",
        "        for i in range(len(x)):\n",
        "            print(f\"x{i + 1} = {x[i]}\")\n",
        "    else:\n",
        "        print(\"No existe solución única.\")\n",
        "\n",
        "# Ejemplo :\n",
        "A = np.array([\n",
        "    [1, -1, 2, -1, -8],\n",
        "    [2, -2, 3, -3, -20],\n",
        "    [1, 1, 1, 0, -2],\n",
        "    [1, -1, 4, 3, 4]\n",
        "], dtype=float)\n",
        "\n",
        "resolver_sistema(A)"
      ]
    }
  ]
}