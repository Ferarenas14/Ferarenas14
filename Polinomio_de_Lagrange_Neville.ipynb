{
  "nbformat": 4,
  "nbformat_minor": 0,
  "metadata": {
    "colab": {
      "provenance": [],
      "authorship_tag": "ABX9TyMFjdkNzV09o+jva3V1mMxt",
      "include_colab_link": true
    },
    "kernelspec": {
      "name": "python3",
      "display_name": "Python 3"
    },
    "language_info": {
      "name": "python"
    }
  },
  "cells": [
    {
      "cell_type": "markdown",
      "metadata": {
        "id": "view-in-github",
        "colab_type": "text"
      },
      "source": [
        "<a href=\"https://colab.research.google.com/github/Ferarenas14/Ferarenas14/blob/main/Polinomio_de_Lagrange_Neville.ipynb\" target=\"_parent\"><img src=\"https://colab.research.google.com/assets/colab-badge.svg\" alt=\"Open In Colab\"/></a>"
      ]
    },
    {
      "cell_type": "markdown",
      "source": [
        "#Polinomio de Lagrange por el método de Neville\n"
      ],
      "metadata": {
        "id": "zn69yNvKkcy1"
      }
    },
    {
      "cell_type": "code",
      "execution_count": 7,
      "metadata": {
        "id": "I0w4cIM5kZlT"
      },
      "outputs": [],
      "source": [
        "import numpy as np"
      ]
    },
    {
      "cell_type": "code",
      "source": [
        "def neville(xi, y, x):\n",
        "\n",
        "    n = len(xi)\n",
        "    # Crea una tabla de interpolación con los valores de f(x)\n",
        "    Q = [[0] * n for _ in range(n)]\n",
        "\n",
        "    # Inicializar la primera columna con los valores de y\n",
        "    for i in range(n):\n",
        "        Q[i][0] = y[i]\n",
        "\n",
        "    # Calcula los valores en la tabla usando el método de Neville\n",
        "    for j in range(1, n):\n",
        "        for i in range(n - j):\n",
        "            Q[i][j] = ((x - xi[i + j]) * Q[i][j - 1] - (x - xi[i]) * Q[i + 1][j - 1]) / (xi[i] - xi[i + j])\n",
        "\n",
        "    # El valor interpolado estará en la posición (0, n-1)\n",
        "    return Q[0][n - 1]\n",
        "\n",
        "\n",
        "xi = [1.0, 1.3, 1.6, 1.9, 2.2] #valores de x\n",
        "y = [0.7651977, 0.6200860, 0.4554022, 0.2818186, 0.1103623] #valores de f(x)\n",
        "x_interpolado = 1.5 #valor interpolado en x\n",
        "\n",
        "resultado = neville(xi, y, x_interpolado)\n",
        "print(f\"El valor interpolado en x = {x_interpolado} es: {resultado}\")"
      ],
      "metadata": {
        "colab": {
          "base_uri": "https://localhost:8080/"
        },
        "id": "QkYyip8-ouSM",
        "outputId": "633a9484-2832-454e-ae53-e7b972616ebb"
      },
      "execution_count": 9,
      "outputs": [
        {
          "output_type": "stream",
          "name": "stdout",
          "text": [
            "El valor interpolado en x = 1.5 es: 0.5118199942386831\n"
          ]
        }
      ]
    }
  ]
}