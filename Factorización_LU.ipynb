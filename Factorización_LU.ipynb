{
  "nbformat": 4,
  "nbformat_minor": 0,
  "metadata": {
    "colab": {
      "provenance": [],
      "authorship_tag": "ABX9TyMc7u45i+Kx6BvRWGHc0h5q",
      "include_colab_link": true
    },
    "kernelspec": {
      "name": "python3",
      "display_name": "Python 3"
    },
    "language_info": {
      "name": "python"
    }
  },
  "cells": [
    {
      "cell_type": "markdown",
      "metadata": {
        "id": "view-in-github",
        "colab_type": "text"
      },
      "source": [
        "<a href=\"https://colab.research.google.com/github/Ferarenas14/Ferarenas14/blob/main/Factorizaci%C3%B3n_LU.ipynb\" target=\"_parent\"><img src=\"https://colab.research.google.com/assets/colab-badge.svg\" alt=\"Open In Colab\"/></a>"
      ]
    },
    {
      "cell_type": "markdown",
      "source": [
        "#Factorización LU"
      ],
      "metadata": {
        "id": "mufNUOcsC8tK"
      }
    },
    {
      "cell_type": "code",
      "execution_count": 2,
      "metadata": {
        "colab": {
          "base_uri": "https://localhost:8080/"
        },
        "id": "rkF5FLOG_wv1",
        "outputId": "b59cab14-34a9-4092-b406-b46005d8bc11"
      },
      "outputs": [
        {
          "output_type": "stream",
          "name": "stdout",
          "text": [
            "Matriz L:\n",
            "[[ 1.  0.  0.  0.]\n",
            " [ 2.  1.  0.  0.]\n",
            " [ 3.  4.  1.  0.]\n",
            " [-1. -3.  0.  1.]]\n",
            "Matriz U:\n",
            "[[  1.   1.   0.   3.]\n",
            " [  0.  -1.  -1.  -5.]\n",
            " [  0.   0.   3.  13.]\n",
            " [  0.   0.   0. -13.]]\n"
          ]
        }
      ],
      "source": [
        "import numpy as np\n",
        "\n",
        "def factorizacion_LU(A):\n",
        "    n = A.shape[0]  # Tamaño de la matriz A\n",
        "    L = np.zeros((n, n))  # Inicialización de L\n",
        "    U = np.zeros((n, n))  # Inicialización de U\n",
        "\n",
        "    # Paso 1: Inicializar L11 = 1 y U11 = a11\n",
        "    if A[0, 0] == 0:\n",
        "        print('Factorización imposible')\n",
        "        return None, None\n",
        "\n",
        "    L[0, 0] = 1\n",
        "    U[0, 0] = A[0, 0]\n",
        "\n",
        "    # Paso 2: Calcular la primera fila de U y la primera columna de L\n",
        "    for j in range(1, n):\n",
        "        U[0, j] = A[0, j] / L[0, 0]\n",
        "        L[j, 0] = A[j, 0] / U[0, 0]\n",
        "\n",
        "    # Paso 3 y 4: Iterar para calcular las matrices L y U\n",
        "    for i in range(1, n):\n",
        "        # Paso 4: Calcular L[i,i] y U[i,i]\n",
        "        suma_LU = np.dot(L[i, :i], U[:i, i])\n",
        "        if A[i, i] - suma_LU == 0:\n",
        "            print('Factorización imposible')\n",
        "            return None, None\n",
        "\n",
        "        L[i, i] = 1\n",
        "        U[i, i] = A[i, i] - suma_LU\n",
        "\n",
        "        # Paso 5: Calcular la fila i de U y la columna i de L\n",
        "        for j in range(i + 1, n):\n",
        "            suma_LU = np.dot(L[i, :i], U[:i, j])\n",
        "            U[i, j] = (A[i, j] - suma_LU) / L[i, i]\n",
        "\n",
        "        for j in range(i + 1, n):\n",
        "            suma_LU = np.dot(L[j, :i], U[:i, i])\n",
        "            L[j, i] = (A[j, i] - suma_LU) / U[i, i]\n",
        "\n",
        "    # Paso 6: Calcular el último elemento Lnn * Unn\n",
        "    suma_LU = np.dot(L[n-1, :n-1], U[:n-1, n-1])\n",
        "    if A[n-1, n-1] - suma_LU == 0:\n",
        "        print('Factorización imposible')\n",
        "        return None, None\n",
        "\n",
        "    L[n-1, n-1] = 1\n",
        "    U[n-1, n-1] = A[n-1, n-1] - suma_LU\n",
        "\n",
        "    # Paso 7: Mostrar las matrices L y U\n",
        "    print(\"Matriz L:\")\n",
        "    print(L)\n",
        "    print(\"Matriz U:\")\n",
        "    print(U)\n",
        "\n",
        "    return L, U\n",
        "\n",
        "\n",
        "# Ejemplo\n",
        "A = np.array([[1, 1, 0, 3],\n",
        "              [2, 1, -1, 1],\n",
        "              [3, -1, -1, 2],\n",
        "              [-1, 2, 3, -1]], dtype=float)\n",
        "\n",
        "L, U = factorizacion_LU(A)"
      ]
    }
  ]
}