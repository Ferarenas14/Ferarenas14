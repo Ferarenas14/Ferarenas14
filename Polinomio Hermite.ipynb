{
  "nbformat": 4,
  "nbformat_minor": 0,
  "metadata": {
    "colab": {
      "provenance": [],
      "authorship_tag": "ABX9TyOcJFKpiEvrn0FM9iQsFFSz",
      "include_colab_link": true
    },
    "kernelspec": {
      "name": "python3",
      "display_name": "Python 3"
    },
    "language_info": {
      "name": "python"
    }
  },
  "cells": [
    {
      "cell_type": "markdown",
      "metadata": {
        "id": "view-in-github",
        "colab_type": "text"
      },
      "source": [
        "<a href=\"https://colab.research.google.com/github/Ferarenas14/Ferarenas14/blob/main/Polinomio%20Hermite.ipynb\" target=\"_parent\"><img src=\"https://colab.research.google.com/assets/colab-badge.svg\" alt=\"Open In Colab\"/></a>"
      ]
    },
    {
      "cell_type": "markdown",
      "source": [
        "#Polinomio de Hermite"
      ],
      "metadata": {
        "id": "O_6iIBPWhyVB"
      }
    },
    {
      "cell_type": "code",
      "source": [
        "import numpy as np\n",
        "\n",
        "def diferencias_divididas_hermite(x, y, dydx, puntos):\n",
        "\n",
        "    n = len(x)\n",
        "    # Inicializar la tabla de diferencias divididas (2n + 1) x (2n + 1)\n",
        "    Q = np.zeros((2 * n + 1, 2 * n + 1))\n",
        "    z = np.zeros(2 * n + 1)\n",
        "\n",
        "    #  Inicialización de Q y z\n",
        "    for i in range(n):\n",
        "        z[2 * i] = x[i]\n",
        "        z[2 * i + 1] = x[i]\n",
        "        Q[2 * i, 0] = y[i]  # f(xi)\n",
        "        Q[2 * i + 1, 0] = y[i]  # f(xi)\n",
        "        Q[2 * i + 1, 1] = dydx[i]  # f'(xi)\n",
        "\n",
        "    # Calculo de las primeras diferencias divididas para los puntos duplicados\n",
        "    for i in range(1, n):\n",
        "        Q[2 * i, 1] = (Q[2 * i, 0] - Q[2 * i - 1, 0]) / (z[2 * i] - z[2 * i - 1])\n",
        "\n",
        "    #  Calculo de las diferencias divididas de orden superior\n",
        "    for i in range(2, 2 * n + 1):\n",
        "        for j in range(2, i + 1):\n",
        "            Q[i, j] = (Q[i, j - 1] - Q[i - 1, j - 1]) / (z[i] - z[i - j])\n",
        "\n",
        "    # Evaluacion el polinomio en los puntos solicitados\n",
        "    def evaluar_polinomio(xi):\n",
        "        resultado = Q[0, 0]\n",
        "        producto = 1\n",
        "        for i in range(1, 2 * n + 1):\n",
        "            producto *= (xi - z[i - 1])\n",
        "            resultado += Q[i, i] * producto\n",
        "        return resultado\n",
        "\n",
        "    # Evaluar\n",
        "    resultados = []\n",
        "    for p in puntos:\n",
        "        valor_aproximado = evaluar_polinomio(p)\n",
        "        resultados.append(valor_aproximado)\n",
        "        print(f\"Valor aproximado en x = {p}: {valor_aproximado}\")\n",
        "\n",
        "    return resultados\n",
        "\n",
        "x = [1.3, 1.6, 1.9]\n",
        "y = [0.6200860, 0.4554022, 0.2818186]\n",
        "dydx = [-0.5220232, -0.5698959, -0.5811571]  # Derivadas\n",
        "puntos = [1.5]\n",
        "\n",
        "# Resultado\n",
        "resultados = diferencias_divididas_hermite(x, y, dydx, puntos)"
      ],
      "metadata": {
        "colab": {
          "base_uri": "https://localhost:8080/"
        },
        "id": "wBNL-kv1f0VR",
        "outputId": "1bffe0e2-9f61-4020-bee8-14c2abc714e9"
      },
      "execution_count": 5,
      "outputs": [
        {
          "output_type": "stream",
          "name": "stdout",
          "text": [
            "Valor aproximado en x = 1.5: 0.5118247508299019\n"
          ]
        }
      ]
    }
  ]
}