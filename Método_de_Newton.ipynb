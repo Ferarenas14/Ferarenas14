{
  "nbformat": 4,
  "nbformat_minor": 0,
  "metadata": {
    "colab": {
      "provenance": [],
      "authorship_tag": "ABX9TyNMAIGwx4pmPlteSFtxgWKM",
      "include_colab_link": true
    },
    "kernelspec": {
      "name": "python3",
      "display_name": "Python 3"
    },
    "language_info": {
      "name": "python"
    }
  },
  "cells": [
    {
      "cell_type": "markdown",
      "metadata": {
        "id": "view-in-github",
        "colab_type": "text"
      },
      "source": [
        "<a href=\"https://colab.research.google.com/github/Ferarenas14/Ferarenas14/blob/main/M%C3%A9todo_de_Newton.ipynb\" target=\"_parent\"><img src=\"https://colab.research.google.com/assets/colab-badge.svg\" alt=\"Open In Colab\"/></a>"
      ]
    },
    {
      "cell_type": "markdown",
      "source": [
        "#Método de Newton\n"
      ],
      "metadata": {
        "id": "5CoQvHk4oPKC"
      }
    },
    {
      "cell_type": "code",
      "source": [
        "from math import *\n",
        "import numpy as np\n",
        "import matplotlib . pyplot as plt"
      ],
      "metadata": {
        "id": "eNql5CsDoaUT"
      },
      "execution_count": 1,
      "outputs": []
    },
    {
      "cell_type": "code",
      "source": [
        "#la función original es (x^3 - x - 1)\n",
        "def f(x):\n",
        "    return p**3 - p - 1"
      ],
      "metadata": {
        "id": "SVp0hGYho4HR"
      },
      "execution_count": 2,
      "outputs": []
    },
    {
      "cell_type": "code",
      "source": [
        "# Derivada de la función (x^3 - x - 1)\n",
        "def g(x):\n",
        "  return  3*(p**2) - 1"
      ],
      "metadata": {
        "id": "o01cqDPhxDor"
      },
      "execution_count": 3,
      "outputs": []
    },
    {
      "cell_type": "code",
      "source": [
        "# Ingreso datos de entrada para la aproximacion inicial\n",
        "p0=1\n",
        "\n",
        "#guarda valores iniciales del error y del número de iteraciones\n",
        "\n",
        "#Tolerancia 10^-2\n",
        "tol = 0.01\n",
        "\n",
        "# Número máximo de iteraciones\n",
        "nmax = 100\n",
        "\n",
        "#Se le da un valor alto, como 100, para asegurarse de que el ciclo comience\n",
        "error = 100\n",
        "\n",
        "#iniciar contador de iteraciones\n",
        "niter = 1"
      ],
      "metadata": {
        "id": "ki3Xk6TGo9Jy"
      },
      "execution_count": 4,
      "outputs": []
    },
    {
      "cell_type": "code",
      "source": [
        "# Método de Newton\n",
        "#usaremos cortar los decimales\n",
        "# Evaluación inicial\n",
        "p0=1\n",
        "\n",
        "p=p0\n",
        "fx= f(p0)\n",
        "gx= g(p0)\n",
        "\n",
        "#mprimir encabezado de la tabla\n",
        "print(\"# iter\\t\\t p \\t\\t f(p) \\t\\t f'(p) \\t\\t error\")\n",
        "print(\"{0} \\t\\t {1:6.4f} \\t {2:6.4f} \\t {3:6.4f} \\t {4:6.4f}\".format(niter, p, fx, gx, error))\n",
        "\n",
        "\n",
        "# Ciclo iterativo del método de Newton\n",
        "while error > tol and niter < nmax: #verificar si el error es menor que la tolerancia\n",
        "    p = p0 - (f(p0)/g(p0)) # Fórmula del método de Newton\n",
        "    error = abs(p - p0) # Calcular el error\n",
        "    niter += 1\n",
        "    p0 = p  # Actualizamos p0 con el nuevo valor de p\n",
        "    print(\"{0} \\t\\t {1:6.4f} \\t {2:6.4f} \\t {3:6.4f} \\t {4:6.4f}\".format(niter, p, fx, gx, error))\n",
        "\n",
        "print(\"La raíz de la función es {0:6.7f}\".format(p))"
      ],
      "metadata": {
        "colab": {
          "base_uri": "https://localhost:8080/"
        },
        "id": "PJZNPnPzqEqy",
        "outputId": "2846d49e-f143-4af5-b68d-363177fec4f1"
      },
      "execution_count": 6,
      "outputs": [
        {
          "output_type": "stream",
          "name": "stdout",
          "text": [
            "# iter\t\t p \t\t f(p) \t\t f'(p) \t\t error\n",
            "1 \t\t 1.0000 \t -1.0000 \t 2.0000 \t 100.0000\n",
            "2 \t\t 1.5000 \t -1.0000 \t 2.0000 \t 0.5000\n",
            "3 \t\t 1.3478 \t -1.0000 \t 2.0000 \t 0.1522\n",
            "4 \t\t 1.3252 \t -1.0000 \t 2.0000 \t 0.0226\n",
            "5 \t\t 1.3247 \t -1.0000 \t 2.0000 \t 0.0005\n",
            "La raíz de la función es 1.3247182\n"
          ]
        }
      ]
    }
  ]
}