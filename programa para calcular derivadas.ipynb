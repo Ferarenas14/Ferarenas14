{
  "nbformat": 4,
  "nbformat_minor": 0,
  "metadata": {
    "colab": {
      "provenance": [],
      "authorship_tag": "ABX9TyPEihvuVKPY3bEXBjTOXelV",
      "include_colab_link": true
    },
    "kernelspec": {
      "name": "python3",
      "display_name": "Python 3"
    },
    "language_info": {
      "name": "python"
    }
  },
  "cells": [
    {
      "cell_type": "markdown",
      "metadata": {
        "id": "view-in-github",
        "colab_type": "text"
      },
      "source": [
        "<a href=\"https://colab.research.google.com/github/Ferarenas14/Ferarenas14/blob/main/programa%20para%20calcular%20derivadas.ipynb\" target=\"_parent\"><img src=\"https://colab.research.google.com/assets/colab-badge.svg\" alt=\"Open In Colab\"/></a>"
      ]
    },
    {
      "cell_type": "code",
      "execution_count": 2,
      "metadata": {
        "id": "drjw5gtjPACW"
      },
      "outputs": [],
      "source": [
        "import sympy as spy"
      ]
    },
    {
      "cell_type": "code",
      "source": [
        "x = spy.Symbol('x')\n",
        "f=spy.exp(x/2)*spy.sin(x/3)\n",
        "#calcular la primera derivada\n",
        "f_uno= spy.diff(f, x)\n",
        "print(f_uno)"
      ],
      "metadata": {
        "colab": {
          "base_uri": "https://localhost:8080/"
        },
        "id": "KwFJvSANPJa3",
        "outputId": "36071560-3989-48af-f981-ea8a72348303"
      },
      "execution_count": 6,
      "outputs": [
        {
          "output_type": "stream",
          "name": "stdout",
          "text": [
            "exp(x/2)*sin(x/3)/2 + exp(x/2)*cos(x/3)/3\n"
          ]
        }
      ]
    },
    {
      "cell_type": "code",
      "source": [
        "#calcular la segunda derivada\n",
        "f_dos= spy.diff(f_uno, x)\n",
        "print(f_dos)"
      ],
      "metadata": {
        "colab": {
          "base_uri": "https://localhost:8080/"
        },
        "id": "cMaBM3b8QKjH",
        "outputId": "01d8ad80-2060-43e0-e3af-80212337e596"
      },
      "execution_count": 7,
      "outputs": [
        {
          "output_type": "stream",
          "name": "stdout",
          "text": [
            "5*exp(x/2)*sin(x/3)/36 + exp(x/2)*cos(x/3)/3\n"
          ]
        }
      ]
    },
    {
      "cell_type": "code",
      "source": [
        "#calcular la tercera derivada\n",
        "f_tres= spy.diff(f_dos, x)\n",
        "print(f_tres)"
      ],
      "metadata": {
        "colab": {
          "base_uri": "https://localhost:8080/"
        },
        "id": "PyvaShHcQVpO",
        "outputId": "5f74bfe7-ef06-4038-e65c-05b7faaa02bb"
      },
      "execution_count": 8,
      "outputs": [
        {
          "output_type": "stream",
          "name": "stdout",
          "text": [
            "-exp(x/2)*sin(x/3)/24 + 23*exp(x/2)*cos(x/3)/108\n"
          ]
        }
      ]
    }
  ]
}