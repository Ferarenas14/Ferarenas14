{
  "nbformat": 4,
  "nbformat_minor": 0,
  "metadata": {
    "colab": {
      "provenance": [],
      "authorship_tag": "ABX9TyMK2mjXBzuN05lUvG26MjXF",
      "include_colab_link": true
    },
    "kernelspec": {
      "name": "python3",
      "display_name": "Python 3"
    },
    "language_info": {
      "name": "python"
    }
  },
  "cells": [
    {
      "cell_type": "markdown",
      "metadata": {
        "id": "view-in-github",
        "colab_type": "text"
      },
      "source": [
        "<a href=\"https://colab.research.google.com/github/Ferarenas14/Ferarenas14/blob/main/M%C3%A9todo_de_Horner.ipynb\" target=\"_parent\"><img src=\"https://colab.research.google.com/assets/colab-badge.svg\" alt=\"Open In Colab\"/></a>"
      ]
    },
    {
      "cell_type": "markdown",
      "source": [
        "#Método de Horner"
      ],
      "metadata": {
        "id": "6nICyYIfYGEd"
      }
    },
    {
      "cell_type": "code",
      "execution_count": 26,
      "metadata": {
        "id": "6DjvEiypSS3l"
      },
      "outputs": [],
      "source": [
        "from math import *\n",
        "import numpy as np\n",
        "import matplotlib . pyplot as plt"
      ]
    },
    {
      "cell_type": "code",
      "source": [
        "#la función  es 2x^4 - 3x^2 + 3x - 4\n",
        "def f(x):\n",
        "    return 2*x**4 - 3*x**2 + 3*x - 4"
      ],
      "metadata": {
        "id": "jaGUPgXzVJhu"
      },
      "execution_count": 27,
      "outputs": []
    },
    {
      "cell_type": "code",
      "source": [
        "# Definir el polinomio como una lista de coeficientes\n",
        "# La función original es 2*x^4 - 3*x^2 + 3*x - 4\n",
        "coefs = [2, 0, -3, 3, -4]"
      ],
      "metadata": {
        "id": "2sh2w6MISXYG"
      },
      "execution_count": 28,
      "outputs": []
    },
    {
      "cell_type": "code",
      "source": [
        "# Método de Horner para evaluar el polinomio y su derivada\n",
        "def horner(coefs, x):\n",
        "    n = len(coefs) - 1  # Grado del polinomio, len devuelve la cantidad de elementos en la lista al restar 1 se tiene el grado del polinomio\n",
        "    p = coefs[0]        # Inicializamos con el coeficiente de mayor grado\n",
        "    dp = coefs[0]       # Derivada inicial\n",
        "    for i in range(1, n + 1):\n",
        "        p = p * x + coefs[i]\n",
        "        if i < n:  # Solo calculamos la derivada hasta el penúltimo coeficiente\n",
        "            dp = dp * x + p\n",
        "    return p, dp  # Regresa el valor del polinomio y el valor de la derivada\n"
      ],
      "metadata": {
        "id": "XDiA43xqScDt"
      },
      "execution_count": 29,
      "outputs": []
    },
    {
      "cell_type": "code",
      "source": [
        "# Ingreso de datos de entrada para la aproximación inicial\n",
        "p0 = 2\n",
        "\n",
        "# Tolerancia\n",
        "tol = 0.01\n",
        "\n",
        "# Número máximo de iteraciones\n",
        "nmax = 100\n",
        "\n",
        "# Error inicial alto para asegurar que el ciclo comience\n",
        "error = 100\n",
        "\n",
        "# Iniciar contador de iteraciones\n",
        "niter = 1"
      ],
      "metadata": {
        "id": "R4I4GpmWSesk"
      },
      "execution_count": 30,
      "outputs": []
    },
    {
      "cell_type": "code",
      "source": [
        "# Método de Newton usando Horner\n",
        "#usaremos cortar los decimales\n",
        "print(\"# iter\\t\\t p \\t\\t f(p) \\t\\t f'(p) \\t\\t error\")\n",
        "\n",
        "# Ciclo iterativo del método de Newton\n",
        "while error > tol and niter <= nmax:  # Verificar si el error es menor que la tolerancia\n",
        "    fx, gx = horner(coefs, p0)  # Evaluar el polinomio y su derivada usando Horner\n",
        "\n",
        "    if gx == 0:  # Verificar si la derivada es cero para evitar división por cero\n",
        "        print(\"La derivada es cero. No se puede continuar.\")\n",
        "        break\n",
        "\n",
        "    p = p0 - (fx / gx)  # Fórmula del método de Newton\n",
        "    error = abs(p - p0)  # Calcular el error\n",
        "    p0 = p  # Actualizamos p0 con el nuevo valor de p\n",
        "    niter += 1\n",
        "    print(\"{0} \\t\\t {1:6.4f} \\t {2:6.4f} \\t {3:6.4f} \\t {4:6.4f}\".format(niter, p, fx, gx, error))\n",
        "print(f\"La raíz de la función es {p:6.7f}\")"
      ],
      "metadata": {
        "colab": {
          "base_uri": "https://localhost:8080/"
        },
        "id": "ofcfmHeZShFl",
        "outputId": "29df0aad-f27f-45b8-bf27-01f0c034567a"
      },
      "execution_count": 31,
      "outputs": [
        {
          "output_type": "stream",
          "name": "stdout",
          "text": [
            "# iter\t\t p \t\t f(p) \t\t f'(p) \t\t error\n",
            "2 \t\t 1.6000 \t 22.0000 \t 55.0000 \t 0.4000\n",
            "3 \t\t 1.3620 \t 6.2272 \t 26.1680 \t 0.2380\n",
            "4 \t\t 1.2687 \t 1.4037 \t 15.0417 \t 0.0933\n",
            "5 \t\t 1.2551 \t 0.1590 \t 11.7249 \t 0.0136\n",
            "6 \t\t 1.2549 \t 0.0030 \t 11.2879 \t 0.0003\n",
            "La raíz de la función es 1.2548820\n"
          ]
        }
      ]
    }
  ]
}